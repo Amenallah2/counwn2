{
 "cells": [
  {
   "cell_type": "code",
   "execution_count": null,
   "id": "97210958",
   "metadata": {},
   "outputs": [],
   "source": [
    "import time\n",
    "def countdown(t):\n",
    "    a=int(t)\n",
    "    \n",
    "    while a>0:\n",
    "        mins,secs= divmod(a,60)\n",
    "        timer = \"{0}min-{1}sec\".format(mins, secs)\n",
    "        print(timer,end=' \\r')\n",
    "        time.sleep(1)\n",
    "        a=a-1\n",
    "        \n",
    "    return ('Fire in the hole')\n",
    "\n",
    "\n",
    "\n",
    "p=str(input('Enter the time in seconds:'))\n",
    "print(countdown(p))        \n",
    "        \n",
    "    "
   ]
  },
  {
   "cell_type": "code",
   "execution_count": null,
   "id": "20912351",
   "metadata": {},
   "outputs": [],
   "source": []
  },
  {
   "cell_type": "code",
   "execution_count": null,
   "id": "3411a416",
   "metadata": {},
   "outputs": [],
   "source": []
  }
 ],
 "metadata": {
  "kernelspec": {
   "display_name": "Python 3",
   "language": "python",
   "name": "python3"
  },
  "language_info": {
   "codemirror_mode": {
    "name": "ipython",
    "version": 3
   },
   "file_extension": ".py",
   "mimetype": "text/x-python",
   "name": "python",
   "nbconvert_exporter": "python",
   "pygments_lexer": "ipython3",
   "version": "3.8.8"
  }
 },
 "nbformat": 4,
 "nbformat_minor": 5
}
